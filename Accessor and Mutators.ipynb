{
 "cells": [
  {
   "cell_type": "markdown",
   "id": "b1d6b25f",
   "metadata": {},
   "source": [
    "### Class Variables: \n",
    "Class variables are shared between all objects. "
   ]
  },
  {
   "cell_type": "code",
   "execution_count": 15,
   "id": "9ffcaa32",
   "metadata": {},
   "outputs": [],
   "source": [
    "class Employee:\n",
    "    \n",
    "    # class variables\n",
    "    reg_hours = 8\n",
    "    count = 0\n",
    "    \n",
    "    def __init__(self,fname,lname,hpay,prof):\n",
    "        self.fname = fname\n",
    "        self.lname = lname\n",
    "        self.hpay = hpay\n",
    "        self.prof = prof\n",
    "        self.email = self.fname + '.' + self.lname + '@.company.com'\n",
    "        self.holidays = 8\n",
    "        \n",
    "        Employee.count += 1 \n",
    "        \n",
    "    def fullname(self):\n",
    "        return self.fname + ' ' + self.lname\n",
    "        \n",
    "    def __str__(self):\n",
    "        return self.fullname() + '\\n Hourly pay: '+ str(self.hpay) + '\\n Profession: ' + self.prof + '\\n Email: ' + str(self.email) \n",
    "    \n",
    "    def calculate_overtime(self,total_hours):\n",
    "        if total_hours > self.reg_hours:\n",
    "            return  total_hours - self.reg_hours\n",
    "        else:\n",
    "            return 0\n",
    "        \n",
    "    def overtime_pay(self,extra_amt,total_hours):\n",
    "        adjusted_pay = self.hpay * self.reg_hours + self.calculate_overtime(total_hours)*extra_amt\n",
    "        return adjusted_pay\n",
    "        \n",
    "\n",
    "    "
   ]
  },
  {
   "cell_type": "code",
   "execution_count": 16,
   "id": "408a3de6",
   "metadata": {},
   "outputs": [
    {
     "name": "stdout",
     "output_type": "stream",
     "text": [
      "0\n",
      "2\n"
     ]
    }
   ],
   "source": [
    "print(Employee.count)\n",
    "emp1 = Employee('Susan', 'Mengel', 10, 'Software Tester')\n",
    "emp2 = Employee('Rachel', 'Adams', 20, 'Software Developer')\n",
    "print(Employee.count)\n",
    "\n",
    "#print(emp1.overtime_pay(10,10))\n",
    "# emp1.reg_hours = 10\n",
    "# emp1.overtime_pay(15,20)\n",
    "# print(Employee.reg_hours)\n",
    "# print(emp1.reg_hours)\n",
    "# print(emp2.reg_hours)"
   ]
  },
  {
   "cell_type": "markdown",
   "id": "a786f3c0",
   "metadata": {},
   "source": [
    "### Hiding Attributes\n",
    "Object’s data attributes should be private, so that only the object’s methods can directly access them. This protects the object’s data attributes from accidental corruption."
   ]
  },
  {
   "cell_type": "markdown",
   "id": "6432051a",
   "metadata": {},
   "source": [
    "## Using Accessors and Mutators\n",
    "It is a common practice to make all of a class’s data attributes private, and to provide public methods for accessing and changing those attributes. This ensures that the object owning those attributes is in control of all the changes being made to them.\n",
    "#### Accessor/Getters:\n",
    "A method that returns a value from a class’s attribute but does not change it is known as an accessor method. Accessor methods provide a safe way for code outside the class to retrieve the values of attributes, without exposing the attributes in a way that they could be changed by the code outside the method.\n",
    "#### Mutator/Setters:\n",
    "A method that stores a value in a data attribute or changes the value of a data attribute in some other way is known as a mutator method. Mutator methods can control the way that a class’s data attributes are modified. When code outside the class needs to change the value of an object’s data attribute, it typically calls a mutator and passes the new value as an argument. If necessary, the mutator can validate the value before it assigns it to the data attribute."
   ]
  },
  {
   "cell_type": "code",
   "execution_count": 22,
   "id": "2c39b690",
   "metadata": {},
   "outputs": [],
   "source": [
    "class Employee:\n",
    "    \n",
    "    def __init__(self):\n",
    "        # Hiding Attributes\n",
    "        self.__fname = \" \"\n",
    "        self.__lname = \" \"\n",
    "        self.__hpay = 0\n",
    "        self.__prof = \" \"\n",
    "        self.__email = self.__fname + '.' + self.__lname + '@.company.com'\n",
    "        \n",
    "    #Accessors/getters\n",
    "    def get_firstname(self):\n",
    "        return self.__fname\n",
    "    \n",
    "    def get_lastname(self):\n",
    "        return self.__lname\n",
    "    \n",
    "    def get_hpay(self):\n",
    "        return self.__hpay\n",
    "    \n",
    "    def get_prof(self):\n",
    "        return self.__prof\n",
    "    \n",
    "    \n",
    "    #Mutators/setters\n",
    "    def set_firsname(self, first):\n",
    "         self.__fname = first\n",
    "        \n",
    "    def set_lastname(self, last):\n",
    "         self.__lname = last\n",
    "            \n",
    "    def set_hpay(self, pay):\n",
    "        self.__hpay = pay\n",
    "        \n",
    "    def set_prof(self, pr):\n",
    "         self.__prof = pr\n",
    "    \n",
    "    \n",
    "    def fullname(self):\n",
    "        return self.__fname + ' ' + self.__lname\n",
    "        \n",
    "    def __str__(self):\n",
    "        return self.fullname() + '\\n Hourly pay: '+ str(self.__hpay) + '\\n Profession: ' + self.__prof + '\\n Email: ' + str(self.__email) \n",
    "    \n",
    "    def calculate_overtime(self,total_hours):\n",
    "        if total_hours > 8:\n",
    "            return  total_hours - 8\n",
    "        else:\n",
    "            return 0\n",
    "        \n",
    "    def overtime_pay(self,extra_amt,total_hours):\n",
    "        adjusted_pay = self.__hpay * 8 + self.calculate_overtime(total_hours)*extra_amt\n",
    "        return adjusted_pay\n",
    "        \n",
    "        \n",
    "        \n",
    "\n",
    "#emp1 = Employee('Susan', 'Mengel', 10, 'Software Tester')"
   ]
  },
  {
   "cell_type": "code",
   "execution_count": 23,
   "id": "ffbd18b8",
   "metadata": {},
   "outputs": [
    {
     "name": "stdout",
     "output_type": "stream",
     "text": [
      "Software Tester\n",
      "Software Developer\n"
     ]
    }
   ],
   "source": [
    "# print(emp1.get_prof())\n",
    "# emp1.set_prof('Software Developer')\n",
    "# print(emp1.get_prof())"
   ]
  },
  {
   "cell_type": "markdown",
   "id": "61aa4ada",
   "metadata": {},
   "source": [
    "## Storing Objects:\n",
    "\n",
    "### 1. Using a List"
   ]
  },
  {
   "cell_type": "code",
   "execution_count": null,
   "id": "f4b7f470",
   "metadata": {},
   "outputs": [],
   "source": [
    "#Storing  objects in a list:\n",
    "def main():\n",
    "    emp_list = []\n",
    "    num = int(input(\"How many employee do you want to store?\"))\n",
    "    for n in range(num):\n",
    "        fname = input(\"Enter your first name\")\n",
    "        lname = input(\"Enter your last name\")\n",
    "        pay = float(input(\"Enter your pay\"))\n",
    "        prof = input(\"Enter your prof\")\n",
    "        \n",
    "        emp = Employee()\n",
    "        \n",
    "        emp.set_firstname(fname)\n",
    "        emp.set_lastname(lname)\n",
    "        emp.set_hpay(pay)\n",
    "        emp.set_prof(prof)\n",
    "        \n",
    "        emp_list.append(emp)\n",
    " \n",
    "main()"
   ]
  },
  {
   "cell_type": "markdown",
   "id": "f6e7b795",
   "metadata": {},
   "source": [
    "### 2. Using a Dictionary"
   ]
  },
  {
   "cell_type": "code",
   "execution_count": null,
   "id": "83b5c08e",
   "metadata": {},
   "outputs": [],
   "source": [
    "\n",
    "# OR use dictionaries to store objects with key as first name of employee and value as object itself\n",
    "\n",
    "def main():\n",
    "    employee_dict = {}\n",
    "    num = int(input(\"How many employee do you want to store?\"))\n",
    "    for n in range(num):\n",
    "        fname = input(\"Enter your first name\")\n",
    "        lname = input(\"Enter your last name\")\n",
    "        pay = float(input(\"Enter your pay\"))\n",
    "        prof = input(\"Enter your prof\")\n",
    "        emp = Employee()\n",
    "        emp.set_firstname(fname)\n",
    "        emp.set_lastname(lname)\n",
    "        emp.set_hpay(pay)\n",
    "        emp.set_prof(prof)\n",
    "        \n",
    "        # Adding to dictionary\n",
    "        if fname not in employee_dict:\n",
    "            employee_dict[fname] = emp\n",
    "        else:\n",
    "            print(\"Name already exists\")\n",
    "            \n",
    "main()"
   ]
  },
  {
   "cell_type": "code",
   "execution_count": null,
   "id": "074e9968",
   "metadata": {},
   "outputs": [],
   "source": []
  },
  {
   "cell_type": "markdown",
   "id": "0ce01d83",
   "metadata": {},
   "source": [
    "## Creating  the class Attendance \n",
    "Suppose the company now decides to build an attendance system to allow employees to mark their attendance for any particular day (Ex: Monday).  Design a class Attendance_Day that represents the day for which attendance has to be marked.\n",
    "\n",
    "The data that should be kept as attribute in the class is:\n",
    "- A  _ _daily_attendance list to store the employee objects who are present for that day.\n",
    "\n",
    "The class will also have the following methods:\n",
    "\n",
    "- An _ init _() method that initilizes  _ _daily_attendance list to be empty.\n",
    "- An accessor method get_attendance() \n",
    "- mark_attendance() method that accepts an employee object as argument and appends that object to the _ _daily_attendance list.\n",
    "- show() method that iterates through the _ _daily_attendance list of employees and displays their full name and their respective per_day_pay for that day where:\n",
    "        per_day_pay = hourly pay*8\n",
    "Example output: Per day pay of employee Susan Mengel = 58$\n",
    "- calc_total_pay() method to calculate and return the gross pay that the company owes based on that day'attendance. \n",
    "\n",
    "      gross_pay = Sum of per_day_pay of all employees in _ _daily_attendance.\n",
    "      \n",
    "        \n",
    "\n"
   ]
  },
  {
   "cell_type": "code",
   "execution_count": null,
   "id": "866365a5",
   "metadata": {},
   "outputs": [],
   "source": [
    "#Class Definition\n",
    "class Attendance_Day:\n",
    "    \n",
    "    \n",
    "    def __init__(self):\n",
    "        self.__daily_attendance = [] \n",
    "        \n",
    "    def get_attendance(self):\n",
    "        return self.__daily_attendance\n",
    "        \n",
    "    def mark_attendance(self, employee):\n",
    "        self.__daily_attendance.append(employee)\n",
    "        \n",
    "    def show(self):\n",
    "        for emp in self.get_attendance():\n",
    "            per_day_pay = emp.get_hpay() * 8\n",
    "            print(\"Per day pay of employee: \" + emp.fullname() + \" = \" + per_day_pay + \"$\")\n",
    "    \n",
    "    def cal_total_pay(self):\n",
    "        gross_pay = 0\n",
    "        for emp in self.get_attendance():\n",
    "            gross_pay += emp.get_hpay() * 8\n",
    "        return gross_pay\n",
    "    \n",
    "    \n",
    "        \n",
    "        "
   ]
  },
  {
   "cell_type": "markdown",
   "id": "f60ac2ba",
   "metadata": {},
   "source": [
    "1. Create an object  'monday' to mark the attendance for that day"
   ]
  },
  {
   "cell_type": "code",
   "execution_count": null,
   "id": "284b2e2e",
   "metadata": {},
   "outputs": [],
   "source": [
    "monday = Attendance_Day()"
   ]
  },
  {
   "cell_type": "markdown",
   "id": "e18767be",
   "metadata": {},
   "source": [
    "2. Iterate through the list of employees created in the section \"Storing Objects\" and ask as input if they are present or not on Monday. If present, mark their atendance, else print the name of the employee is not present."
   ]
  },
  {
   "cell_type": "code",
   "execution_count": 1,
   "id": "55bde7f5",
   "metadata": {},
   "outputs": [
    {
     "name": "stdout",
     "output_type": "stream",
     "text": [
      "How many employee do you want to store?2\n",
      "Enter your first nameRose\n",
      "Enter your last nameKamigami\n",
      "Enter your pay25\n"
     ]
    },
    {
     "ename": "NameError",
     "evalue": "name 'Employee' is not defined",
     "output_type": "error",
     "traceback": [
      "\u001b[1;31m---------------------------------------------------------------------------\u001b[0m",
      "\u001b[1;31mNameError\u001b[0m                                 Traceback (most recent call last)",
      "Input \u001b[1;32mIn [1]\u001b[0m, in \u001b[0;36m<cell line: 3>\u001b[1;34m()\u001b[0m\n\u001b[0;32m      5\u001b[0m lname \u001b[38;5;241m=\u001b[39m \u001b[38;5;28minput\u001b[39m(\u001b[38;5;124m\"\u001b[39m\u001b[38;5;124mEnter your last name\u001b[39m\u001b[38;5;124m\"\u001b[39m)\n\u001b[0;32m      6\u001b[0m pay \u001b[38;5;241m=\u001b[39m \u001b[38;5;28mfloat\u001b[39m(\u001b[38;5;28minput\u001b[39m(\u001b[38;5;124m\"\u001b[39m\u001b[38;5;124mEnter your pay\u001b[39m\u001b[38;5;124m\"\u001b[39m))\n\u001b[1;32m----> 8\u001b[0m emp \u001b[38;5;241m=\u001b[39m \u001b[43mEmployee\u001b[49m()\n\u001b[0;32m     10\u001b[0m emp\u001b[38;5;241m.\u001b[39mset_firstname(fname)\n\u001b[0;32m     11\u001b[0m emp\u001b[38;5;241m.\u001b[39mset_lastname(lname)\n",
      "\u001b[1;31mNameError\u001b[0m: name 'Employee' is not defined"
     ]
    }
   ],
   "source": [
    "for emp in emp_list:\n",
    "    present = input(\"Is employee \" + emp.fullname() + \" present?\" + \"\\n(Enter a 'y' for yes and 'n' for no)?)\"\n",
    "    if present == 'y' or present == 'Y':\n",
    "        monday.mark_attendance(emp)\n",
    "    else:\n",
    "        print(\"Employee \" + emp.fullname() + \" is not present\")\n",
    "    "
   ]
  },
  {
   "cell_type": "markdown",
   "id": "3d46a096",
   "metadata": {},
   "source": [
    "3. Call the show() method"
   ]
  },
  {
   "cell_type": "code",
   "execution_count": null,
   "id": "76cb7cc3",
   "metadata": {},
   "outputs": [],
   "source": [
    "monday.show()"
   ]
  },
  {
   "cell_type": "markdown",
   "id": "012bd6cc",
   "metadata": {},
   "source": [
    "4. Display the total money owed to the employees on monday"
   ]
  },
  {
   "cell_type": "code",
   "execution_count": null,
   "id": "01a954b1",
   "metadata": {},
   "outputs": [],
   "source": [
    "g_pay = monday.calc_total_pay()\n",
    "print(\"Employee total pay is: \" + str(g_pay))"
   ]
  },
  {
   "cell_type": "markdown",
   "id": "110f4c19",
   "metadata": {},
   "source": [
    "## Q2. Creating the CellPhone Class\n",
    "\n",
    "Wireless Solutions, Inc. is a business that sells cell phones and wireless service. You are a programmer in the company’s IT department, and your team is designing a program to manage all of the cell phones that are in inventory. You have been asked to design a class that represents a cell phone. The data that should be kept as attributes in the class are as\n",
    "follows:\n",
    "- The name of the phone’s manufacturer will be assigned to the _ _manufact attribute.\n",
    "- The phone’s model number will be assigned to the _ _model attribute.\n",
    "- The phone’s retail price will be assigned to the _ _retail_price attribute.\n",
    "\n",
    "The class will also have the following methods:\n",
    "- An _ _init_ _ method that accepts arguments for the manufacturer, model number, and retail price.\n",
    "- A set_manufact method that accepts an argument for the manufacturer. This method will allow us to change the value of the _ _manufact attribute after the object has been created, if necessary.\n",
    "- A set_model method that accepts an argument for the model. This method will allow us to change the value of the _ _model attribute after the object has been created, if necessary.\n",
    "- A set_retail_price method that accepts an argument for the retail price. This method will allow us to change the value of the _ _retail_price attribute after the object has been created, if necessary.\n",
    "- A get_manufact method that returns the phone’s manufacturer.\n",
    "- A get_model method that returns the phone’s model number.\n",
    "- A get_retail_price method that returns the phone’s retail price."
   ]
  },
  {
   "cell_type": "code",
   "execution_count": null,
   "id": "a66a88b9",
   "metadata": {},
   "outputs": [],
   "source": [
    "class CellPhone:\n",
    "    def __init__(self, manufact, model_num, retail_p):\n",
    "        self.__manufact = manufact\n",
    "        self.__model_num = model_num\n",
    "        self.__retail_p = retail_p\n",
    "        \n",
    "    #Getters\n",
    "    def get_manufact(self):\n",
    "        return self.__manufact\n",
    "        \n",
    "    def get_model_num(self):\n",
    "        return self.__model_num\n",
    "        \n",
    "    def get_retail_p(self):\n",
    "        return self.__retail_p\n",
    "    \n",
    "    #Setters\n",
    "    def set_manufact(self,manufact):\n",
    "        self.__manufact = manufact\n",
    "        \n",
    "    def set_model_num(self,model_num):\n",
    "        self.__model_num = model_num\n",
    "        \n",
    "    def set_retail_p(self,retail_p):\n",
    "        self.__retail_p = retail_p\n",
    "        \n",
    "        \n",
    "        "
   ]
  },
  {
   "cell_type": "markdown",
   "id": "26e3a2b0",
   "metadata": {},
   "source": [
    "Write a program that  gets the data for five phones from the user, creates five CellPhone objects holding that data, and stores those objects in a list. It then iterates over the list displaying the attributes of each object."
   ]
  },
  {
   "cell_type": "code",
   "execution_count": 5,
   "id": "0c09bfa2",
   "metadata": {},
   "outputs": [
    {
     "name": "stdout",
     "output_type": "stream",
     "text": [
      "How many phones do want to know about? 1\n",
      "Enter a manufacturer: Apple\n",
      "Enter a Model Number: 10\n",
      "Enter a Price: 250\n"
     ]
    },
    {
     "ename": "NameError",
     "evalue": "name 'CellPhone' is not defined",
     "output_type": "error",
     "traceback": [
      "\u001b[1;31m---------------------------------------------------------------------------\u001b[0m",
      "\u001b[1;31mNameError\u001b[0m                                 Traceback (most recent call last)",
      "Input \u001b[1;32mIn [5]\u001b[0m, in \u001b[0;36m<cell line: 4>\u001b[1;34m()\u001b[0m\n\u001b[0;32m      6\u001b[0m model \u001b[38;5;241m=\u001b[39m \u001b[38;5;28mint\u001b[39m(\u001b[38;5;28minput\u001b[39m(\u001b[38;5;124m'\u001b[39m\u001b[38;5;124mEnter a Model Number: \u001b[39m\u001b[38;5;124m'\u001b[39m))\n\u001b[0;32m      7\u001b[0m price \u001b[38;5;241m=\u001b[39m \u001b[38;5;28mfloat\u001b[39m(\u001b[38;5;28minput\u001b[39m(\u001b[38;5;124m'\u001b[39m\u001b[38;5;124mEnter a Price: \u001b[39m\u001b[38;5;124m'\u001b[39m))\n\u001b[1;32m----> 9\u001b[0m cell \u001b[38;5;241m=\u001b[39m \u001b[43mCellPhone\u001b[49m()\n\u001b[0;32m     11\u001b[0m cell\u001b[38;5;241m.\u001b[39mset_manufact(manu)\n\u001b[0;32m     12\u001b[0m cell\u001b[38;5;241m.\u001b[39mset_model_num(model)\n",
      "\u001b[1;31mNameError\u001b[0m: name 'CellPhone' is not defined"
     ]
    }
   ],
   "source": [
    "phone_list = []\n",
    "\n",
    "num = int(input('How many phones do want to know about? '))\n",
    "for n in range(num):\n",
    "    manu = input('Enter a manufacturer: ')\n",
    "    model = int(input('Enter a Model Number: '))\n",
    "    price = float(input('Enter a Price: '))\n",
    "    \n",
    "    cell = CellPhone()\n",
    "    \n",
    "    cell.set_manufact(manu)\n",
    "    cell.set_model_num(model)\n",
    "    cell.set_retail_p(price)\n",
    "    \n",
    "    phone_list.append(cell)\n",
    "    \n",
    "for n in range(phone_list):\n",
    "    print(n)\n"
   ]
  },
  {
   "cell_type": "code",
   "execution_count": null,
   "id": "8dda1d33",
   "metadata": {},
   "outputs": [],
   "source": []
  }
 ],
 "metadata": {
  "kernelspec": {
   "display_name": "Python 3 (ipykernel)",
   "language": "python",
   "name": "python3"
  },
  "language_info": {
   "codemirror_mode": {
    "name": "ipython",
    "version": 3
   },
   "file_extension": ".py",
   "mimetype": "text/x-python",
   "name": "python",
   "nbconvert_exporter": "python",
   "pygments_lexer": "ipython3",
   "version": "3.9.12"
  }
 },
 "nbformat": 4,
 "nbformat_minor": 5
}
