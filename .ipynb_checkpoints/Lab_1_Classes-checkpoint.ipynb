{
 "cells": [
  {
   "cell_type": "markdown",
   "id": "beb216e0-e0e6-49c2-9bee-6a0f9584a3fa",
   "metadata": {},
   "source": [
    "# Lab 1 Classes (based on previous Cyber 150 Assignment #1)\n",
    "\n",
    "### Objectives\n",
    "- Get familiar with classes and object creation\n",
    "- Understand constructors and deconstructors\n",
    "- Understand how methods are used to interact with class member variables\n",
    "\n",
    "## Part 1: MCQs\n",
    "\n",
    "_To answer the MCQ questions, double-click on this cell and write your answers against **Answer** word written below each question. Once done, you can run this cell either using play button in the ribbon or press  CNTRL+ENTR_\n",
    "\n",
    "\n",
    "Q-1. Which of the following represents a distinctly identifiable entity in the real world?\n",
    "\n",
    "     A. A class\n",
    "     B. An object\n",
    "     C. A method\n",
    "     D. A data field\n",
    "**Answer:**An object\n",
    "     \n",
    "Q-2. Which of the following represents a template, blueprint, or contract that defines objects of the same type?\n",
    "\n",
    "    A. A class\n",
    "    B. An object\n",
    "    C. A method\n",
    "    D. A data field\n",
    "**Answer:**a class\n",
    "    \n",
    "Q-3. Which of the following keywords mark the beginning of the class definition?\n",
    "\n",
    "    A. def\n",
    "    B. return\n",
    "    C. class\n",
    "    D. All of the above.\n",
    "**Answer:**A. def\n",
    " \n",
    "Q-4. Which of the following is required to create a new instance of the class?\n",
    "\n",
    "    A. A constructor\n",
    "    B. A class\n",
    "    C. A value-returning method\n",
    "    D. A None method\n",
    "**Answer:**A constructor\n",
    "\n",
    "\n",
    "Q-5. Which of the following statements is most accurate for the declaration x = Circle()?\n",
    " \n",
    "    A. x contains an int value.\n",
    "    B. x contains an object of the Circle type.\n",
    "    C. x contains a reference to a Circle object.\n",
    "    D. You can assign an int value to x.\n",
    "**Answer:**x contains an object of the Circle type.\n",
    "    \n",
    "Q-6. What is TRUE about the class attributes?\n",
    "\n",
    "    A. They are defined in the __init__() method\n",
    "    B. They can be defined inside any method\n",
    "    C. They are accessible by the name of the class\n",
    "    D. All of the above are true\n",
    "**Answer:**    D. All of the above are true\n",
    "    \n",
    "Q-7 What is the name of the constructor method in the Python class?\n",
    "\n",
    "    A. __main__()\n",
    "    B. __init__()\n",
    "    C. __Ctor__()\n",
    "    D. None of the above\n",
    "**Answer:**\n",
    "    B. __init__()\n",
    "Q8. In Python, a function within a class definition is called a:\n",
    "\n",
    "    A. method\n",
    "    B. factory\n",
    "    C. class function\n",
    "    D. operation\n",
    "**Answer:**    A. method"
   ]
  },
  {
   "cell_type": "markdown",
   "id": "e51e5b85-3a37-45af-9556-7f557fd644ea",
   "metadata": {},
   "source": [
    "## Part 2\n",
    "\n",
    "### General Requirements (inspired by previous Cyber 150 labs)\n",
    "In this lab, your code must adhere to the following programming style:\n",
    "- Use indention to show the logical structure of your code\n",
    "- Use methods to make your code modular.\n",
    "- Give each code block a comment\n",
    "- Give your variables intuitive names and use proper python naming conventions\n",
    "\n",
    "Design a class with Python named BankAccount to hold the following data for a bank account:\n",
    "- Balance\n",
    "- Number of deposits this month\n",
    "- Number of withdrawals\n",
    "- Annual interest rate\n",
    "- Monthly service charge\n",
    "- Pin code\n",
    "\n",
    "The class should have the following methods:\n",
    "- Constructor\n",
    "    - The constructor should accept arguments for the balance, the pin code and annual interest rate.\n",
    "- Deconstructor\n",
    "    - The deconstructor should display a message notifying the user that the bank account information is no longer present and that the account has been closed.\n",
    "- deposit\n",
    "    - A methods that accepts an argument for the amount of the deposit.\n",
    "    - The method should add the argument to the account balance. It should also increment the variable holding the number of deposits.\n",
    "- withdraw \n",
    "    - a method that accepts an argument for the amount of the withdrawal. The method should subtract the argument from the balance. It should also increment the variable holding the number of withrawals. \n",
    "- calc_interest\n",
    "    - A method that updates the balance by calculating the monthly interest earned by the account, and adding this interest to the balance. This is performed by the following formulas:\n",
    "        - Monthly Interest Rate = Annual Interest Rate / 12\n",
    "        - Monthly Interest = Balance * Monthly Interest Rate\n",
    "        - Balance = Balance + Monthly Interest\n",
    "- monthly_process\n",
    "    - A method that subtracts the monthly service charge from the balance, calls the calc_interest method, and then sets the variables that hold the number of withdrawals and the number of deposits to zero (in that order)."
   ]
  },
  {
   "cell_type": "code",
   "execution_count": null,
   "id": "da822595",
   "metadata": {},
   "outputs": [],
   "source": [
    "import sys\n",
    "class BankAccount:\n",
    "    def __init__(self, pin, balance, inrate, serviceCharge = 5, depot_num = 0, withdraw_num = 0):\n",
    "        self.pin = pin\n",
    "        self.balance = balance\n",
    "        self.inrate = inrate\n",
    "        self.serviceCharge = serviceCharge\n",
    "        self.depot_num = depot_num\n",
    "        self.withdraw_num = withdraw_num\n",
    "\n",
    "    def __closed__(self):\n",
    "        return \"The transaction has been completed. Exiting the account\"\n",
    "        sys.exit()\n",
    "\n",
    "    def deposits(self, deposit):\n",
    "        balance = self.balance + deposit\n",
    "        self.balance = balance\n",
    "        self.depot_num = self.depot_num + 1\n",
    "        return self.balance\n",
    "\n",
    "    def withdraw(self, withdraw):\n",
    "        balance = self.balance - withdraw\n",
    "        self.balance = balance\n",
    "        self.withdraw_num = self.withdraw_num + 1\n",
    "        return self.balance\n",
    "\n",
    "    def calc_interest(self):\n",
    "        monIntrate = self.inrate / 12\n",
    "        monInt = self.balance * monIntrate\n",
    "        self.balance = self.balance + monInt\n",
    "        return self.balance\n",
    "\n",
    "    def monthly_process(self):\n",
    "        self.balance = self.balance - self.serviceCharge\n",
    "        self.calc_interest()\n",
    "        self.depositNum = 0\n",
    "        self.withdrawNum = 0\n",
    "  "
   ]
  },
  {
   "cell_type": "markdown",
   "id": "a1ac4428",
   "metadata": {},
   "source": [
    "Now, write the code that would create or instantiate a bank account object from the class that you just created. Store the object into a variable called \"bank_account\" (use the follwing test data: pin = 8521, balance = 1000, and interest rate = .02)."
   ]
  },
  {
   "cell_type": "code",
   "execution_count": null,
   "id": "dbce8583",
   "metadata": {},
   "outputs": [],
   "source": [
    "bank_account = BankAccount(8521, 1000, .02)"
   ]
  },
  {
   "cell_type": "markdown",
   "id": "a7e40c94",
   "metadata": {},
   "source": [
    "Now, write the code to ask the user for 4 deposits (keep in mind that your deposit method should be able to handle bad input - it should still use the input, but should try to correct it). Print the balance before and after. Test the code with the following data: 100, 450, 650, -320"
   ]
  },
  {
   "cell_type": "code",
   "execution_count": null,
   "id": "8e5fe2a0",
   "metadata": {},
   "outputs": [],
   "source": [
    "val_1 = input(\"How many deposits are you making? \")\n",
    "\n",
    "while int(val_1) > 0:\n",
    "    val_usr = input(\"Type your Deposit: \")\n",
    "    try:\n",
    "        if int(val_usr) < 0:\n",
    "            print(\"Invalid Deposit. Please enter a valid deposit\")\n",
    "        else:\n",
    "            print(\"Balance = \" + str(bank_account.deposits(int(val_usr))))\n",
    "            val_1 = int(val_1) - 1\n",
    "    except ValueError:\n",
    "        print(\"Invalid Deposit. Please enter a valid deposit\")"
   ]
  },
  {
   "cell_type": "markdown",
   "id": "bb9748e0",
   "metadata": {},
   "source": [
    "Now, write the code to ask the user for 8 withdrawals (keep in mind that the account balance should never be negative, so do not let this happen, also if bad input is given other than withdrawing more than is in the account, the method should try to correct the bad input). Print the balance before and after. Test the code with the following values: 150, 189, 62, 84, 19, 54, 78, 2600"
   ]
  },
  {
   "cell_type": "code",
   "execution_count": null,
   "id": "d2fdc40e",
   "metadata": {},
   "outputs": [],
   "source": [
    "val_2 = input(\"How many withdraws are you making? \")\n",
    "\n",
    "while int(val_2) > 0:\n",
    "    val_usr2 = input(\"Type your withdrawl: \")\n",
    "    try:\n",
    "        if int(val_usr2) < 0 or int(val_usr2) >= bank_account.balance:\n",
    "            print(\"Invalid Withdraw. Please enter a valid withdraw\")\n",
    "        else:\n",
    "            print(\"Balance = \" + str(bank_account.withdraw(int(val_usr2))))\n",
    "            val_2 = int(val_2) - 1\n",
    "    except ValueError:\n",
    "        print(\"Invalid Deposit. Please enter a valid deposit\")"
   ]
  },
  {
   "cell_type": "markdown",
   "id": "65c74d54",
   "metadata": {},
   "source": [
    "Now, write the code to test the monthly process. In your display of the data, be sure to have currency formatted to only show two decimal places."
   ]
  },
  {
   "cell_type": "code",
   "execution_count": null,
   "id": "9fa356e6",
   "metadata": {},
   "outputs": [],
   "source": [
    "bank_account.monthly_process()\n",
    "print(\"Balance: \" + \"{:.2f}\".format(bank_account.balance))"
   ]
  },
  {
   "cell_type": "markdown",
   "id": "6a651476",
   "metadata": {},
   "source": [
    "Now, write code that will erase the account."
   ]
  },
  {
   "cell_type": "code",
   "execution_count": null,
   "id": "aefebba7",
   "metadata": {},
   "outputs": [],
   "source": [
    "print(bank_account.__closed__())"
   ]
  },
  {
   "cell_type": "markdown",
   "id": "52417db2",
   "metadata": {},
   "source": [
    "Save and submit your .ipynb file."
   ]
  },
  {
   "cell_type": "code",
   "execution_count": null,
   "id": "97b948c3",
   "metadata": {},
   "outputs": [],
   "source": []
  }
 ],
 "metadata": {
  "kernelspec": {
   "display_name": "Python 3 (ipykernel)",
   "language": "python",
   "name": "python3"
  },
  "language_info": {
   "codemirror_mode": {
    "name": "ipython",
    "version": 3
   },
   "file_extension": ".py",
   "mimetype": "text/x-python",
   "name": "python",
   "nbconvert_exporter": "python",
   "pygments_lexer": "ipython3",
   "version": "3.9.12"
  }
 },
 "nbformat": 4,
 "nbformat_minor": 5
}
